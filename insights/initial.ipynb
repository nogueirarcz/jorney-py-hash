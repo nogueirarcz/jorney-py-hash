{
 "cells": [
  {
   "cell_type": "markdown",
   "metadata": {},
   "source": [
    "# Python Insights - Analisando Dados com Python\n",
    "\n",
    "### Case - Cancelamento de Clientes\n",
    "\n",
    "Você foi contratado por uma empresa com mais de 800 mil clientes para um projeto de Dados. Recentemente a empresa percebeu que da sua base total de clientes, a maioria são clientes inativos, ou seja, que já cancelaram o serviço.\n",
    "\n",
    "Precisando melhorar seus resultados ela quer conseguir entender os principais motivos desses cancelamentos e quais as ações mais eficientes para reduzir esse número.\n",
    "\n",
    "Base de dados e arquivos: https://drive.google.com/drive/folders/1uDesZePdkhiraJmiyeZ-w5tfc8XsNYFZ?usp=drive_link"
   ]
  },
  {
   "cell_type": "code",
   "execution_count": null,
   "metadata": {},
   "outputs": [],
   "source": [
    "# Step 1 --> Importar a base de dados\n",
    "# Step 2 --> Analisar a base de dados\n",
    "# Step 3 --> Corrigir a base de dados\n",
    "# Step 4 --> Analisar os cancelamentos"
   ]
  },
  {
   "cell_type": "code",
   "execution_count": 2,
   "metadata": {},
   "outputs": [],
   "source": [
    "# Step 1 --> Importar a base de dados\n",
    "# !pip install pandas numpy openpyxl ipykernel plotly\n",
    "\n",
    "import pandas as pd\n",
    "\n",
    "tbl_cancel = pd.read_csv('cancelamentos.csv')"
   ]
  },
  {
   "cell_type": "code",
   "execution_count": null,
   "metadata": {},
   "outputs": [],
   "source": [
    "# Step 2 --> Analisar a base de dados\n",
    "display(tbl_cancel)\n",
    "\n",
    "display(tbl_cancel.info())"
   ]
  },
  {
   "cell_type": "code",
   "execution_count": 3,
   "metadata": {},
   "outputs": [],
   "source": [
    "# Step 3 --> Corrigir problemas na base de dados\n",
    "tbl_cancel = tbl_cancel.drop(columns='CustomerID') # Removendo a coluna CustomerID\n",
    "\n",
    "tbl_cancel = tbl_cancel.dropna() # Removendo linhas com informações vazias\n",
    "\n",
    "tbl_cancel = tbl_cancel.drop_duplicates() # Removendo informações duplicadas"
   ]
  },
  {
   "cell_type": "code",
   "execution_count": null,
   "metadata": {},
   "outputs": [],
   "source": [
    "# Step 4 --> Análise dos cancelamentos\n",
    "\n",
    "# Exibindo a contagem de cancelamentos\n",
    "display(tbl_cancel['cancelou'].value_counts())\n",
    "\n",
    "# Exibindo percentual - normalizado - dos cancelamentos\n",
    "display(tbl_cancel['cancelou'].value_counts(normalize=True))\n",
    "\n",
    "# Formatando resultados percentuais\n",
    "display(tbl_cancel['cancelou'].value_counts(normalize=True).map('{:.1%}'.format))"
   ]
  }
 ],
 "metadata": {
  "kernelspec": {
   "display_name": "venv",
   "language": "python",
   "name": "python3"
  },
  "language_info": {
   "codemirror_mode": {
    "name": "ipython",
    "version": 3
   },
   "file_extension": ".py",
   "mimetype": "text/x-python",
   "name": "python",
   "nbconvert_exporter": "python",
   "pygments_lexer": "ipython3",
   "version": "3.12.5"
  },
  "orig_nbformat": 4
 },
 "nbformat": 4,
 "nbformat_minor": 2
}
