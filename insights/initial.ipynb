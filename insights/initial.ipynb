{
 "cells": [
  {
   "cell_type": "markdown",
   "metadata": {},
   "source": [
    "# Python Insights - Analisando Dados com Python\n",
    "\n",
    "### Case - Cancelamento de Clientes\n",
    "\n",
    "Você foi contratado por uma empresa com mais de 800 mil clientes para um projeto de Dados. Recentemente a empresa percebeu que da sua base total de clientes, a maioria são clientes inativos, ou seja, que já cancelaram o serviço.\n",
    "\n",
    "Precisando melhorar seus resultados ela quer conseguir entender os principais motivos desses cancelamentos e quais as ações mais eficientes para reduzir esse número.\n",
    "\n",
    "Base de dados e arquivos: https://drive.google.com/drive/folders/1uDesZePdkhiraJmiyeZ-w5tfc8XsNYFZ?usp=drive_link"
   ]
  },
  {
   "cell_type": "code",
   "execution_count": null,
   "metadata": {},
   "outputs": [],
   "source": [
    "# Step 1 --> Importar a base de dados\n",
    "# Step 2 --> Analisar a base de dados\n",
    "# Step 3 --> Corrigir a base de dados\n",
    "# Step 4 --> Analisar os cancelamentos\n",
    "# Step 5 --> Análise gráfica"
   ]
  },
  {
   "cell_type": "code",
   "execution_count": 2,
   "metadata": {},
   "outputs": [],
   "source": [
    "# Step 1 --> Importar a base de dados\n",
    "# !pip install pandas numpy openpyxl ipykernel plotly\n",
    "\n",
    "import pandas as pd\n",
    "\n",
    "tbl_cancel = pd.read_csv('cancelamentos.csv')"
   ]
  },
  {
   "cell_type": "code",
   "execution_count": null,
   "metadata": {},
   "outputs": [],
   "source": [
    "# Step 2 --> Analisar a base de dados\n",
    "display(tbl_cancel)\n",
    "\n",
    "display(tbl_cancel.info())"
   ]
  },
  {
   "cell_type": "code",
   "execution_count": 3,
   "metadata": {},
   "outputs": [],
   "source": [
    "# Step 3 --> Corrigir problemas na base de dados\n",
    "tbl_cancel = tbl_cancel.drop(columns='CustomerID') # Removendo a coluna CustomerID\n",
    "\n",
    "tbl_cancel = tbl_cancel.dropna() # Removendo linhas com informações vazias\n",
    "\n",
    "tbl_cancel = tbl_cancel.drop_duplicates() # Removendo informações duplicadas"
   ]
  },
  {
   "cell_type": "code",
   "execution_count": null,
   "metadata": {},
   "outputs": [],
   "source": [
    "# Step 4 --> Análise dos cancelamentos\n",
    "\n",
    "# Exibindo a contagem de cancelamentos\n",
    "display(tbl_cancel['cancelou'].value_counts())\n",
    "\n",
    "# Exibindo percentual - normalizado - dos cancelamentos\n",
    "display(tbl_cancel['cancelou'].value_counts(normalize=True))\n",
    "\n",
    "# Formatando resultados percentuais\n",
    "display(tbl_cancel['cancelou'].value_counts(normalize=True).map('{:.1%}'.format))"
   ]
  },
  {
   "cell_type": "code",
   "execution_count": null,
   "metadata": {},
   "outputs": [],
   "source": [
    "#!pip install nbformat==4.2.0\n"
   ]
  },
  {
   "cell_type": "code",
   "execution_count": null,
   "metadata": {},
   "outputs": [],
   "source": [
    "# Step 5 --> Análise gráfica\n",
    "import plotly.express as plotx\n",
    "\n",
    "\n",
    "# Gráfico da relação de cancelamentos com a duração do contrato\n",
    "grafico = plotx.histogram(tbl_cancel, x='duracao_contrato', color='cancelou')\n",
    "\n",
    "grafico.show()"
   ]
  },
  {
   "cell_type": "code",
   "execution_count": null,
   "metadata": {},
   "outputs": [],
   "source": [
    "# Step 5 --> Análise Gráfica\n",
    "\n",
    "# Gerando gráficos para cada coluna da tablea de clientes\n",
    "for column in tbl_cancel.columns:\n",
    "\n",
    "    grafico = plotx.histogram(tbl_cancel, x=column, color='cancelou', text_auto=True)\n",
    "\n",
    "    grafico.show()"
   ]
  },
  {
   "cell_type": "code",
   "execution_count": null,
   "metadata": {},
   "outputs": [],
   "source": [
    "# A primeira análise aponta que:\n",
    "# --> Todos os clientes de contrato mensal, cancelaram.\n",
    "# --> Todos os clientes com dias de atraso > 20, cancelaram.\n",
    "# --> Todos os clientes com ligações ao call center > 4, cancelaram."
   ]
  },
  {
   "cell_type": "code",
   "execution_count": 9,
   "metadata": {},
   "outputs": [
    {
     "data": {
      "text/plain": [
       "cancelou\n",
       "0.0    64.1%\n",
       "1.0    35.9%\n",
       "Name: proportion, dtype: object"
      ]
     },
     "metadata": {},
     "output_type": "display_data"
    },
    {
     "data": {
      "text/plain": [
       "cancelou\n",
       "0.0    64.1%\n",
       "1.0    35.9%\n",
       "Name: proportion, dtype: object"
      ]
     },
     "metadata": {},
     "output_type": "display_data"
    },
    {
     "data": {
      "text/plain": [
       "cancelou\n",
       "0.0    81.6%\n",
       "1.0    18.4%\n",
       "Name: proportion, dtype: object"
      ]
     },
     "metadata": {},
     "output_type": "display_data"
    }
   ],
   "source": [
    "# Segunda análise: Verificar o comportamento dos cancelamentos casos os três problemas apontados acima sejam resolvidos\n",
    "\n",
    "# Comportamento dos cancelamentos ao solucionar o problema de contrato mensal\n",
    "tbl_cancel = tbl_cancel[tbl_cancel['duracao_contrato'] != 'Monthly']\n",
    "\n",
    "# Verificando percentual de cancelamentos desconsiderando os cancelamentos de contrato mensal\n",
    "display(tbl_cancel['cancelou'].value_counts(normalize=True).map('{:.1%}'.format)) # Reduz os cancelamentos para 46%\n",
    "\n",
    "# Comportamento dos cancelamentos ao solucionar os atrasos superiores a 20 dias\n",
    "tbl_cancel = tbl_cancel[tbl_cancel['dias_atraso'] <= 20]\n",
    "\n",
    "# Verificando percentual de cancelamentos desconsiderando os cancelamentos de atrasos pós 20 dias\n",
    "display(tbl_cancel['cancelou'].value_counts(normalize=True).map('{:.1%}'.format)) # Reduz os cancelamentos para 35%\n",
    "\n",
    "# Comportamento dos cancelamentos ao solucionar as ligações ao call center\n",
    "tbl_cancel = tbl_cancel[tbl_cancel['ligacoes_callcenter'] <= 4]\n",
    "\n",
    "# Verificando percentual de cancelamentos desconsiderando os cancelamentos com mais de 4 ligações ao call center\n",
    "display(tbl_cancel['cancelou'].value_counts(normalize=True).map('{:.1%}'.format)) # Reduz os cancelamentos para 18%"
   ]
  }
 ],
 "metadata": {
  "kernelspec": {
   "display_name": "venv",
   "language": "python",
   "name": "python3"
  },
  "language_info": {
   "codemirror_mode": {
    "name": "ipython",
    "version": 3
   },
   "file_extension": ".py",
   "mimetype": "text/x-python",
   "name": "python",
   "nbconvert_exporter": "python",
   "pygments_lexer": "ipython3",
   "version": "3.12.5"
  },
  "orig_nbformat": 4
 },
 "nbformat": 4,
 "nbformat_minor": 2
}
