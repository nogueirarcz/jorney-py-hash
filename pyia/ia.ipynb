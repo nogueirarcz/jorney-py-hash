{
 "cells": [
  {
   "cell_type": "markdown",
   "metadata": {},
   "source": [
    "# Projeto Python IA: Inteligência Artificial e Previsões\n",
    "\n",
    "### Case: Score de Crédito dos Clientes\n",
    "\n",
    "Você foi contratado por um banco para conseguir definir o score de crédito dos clientes. Você precisa analisar todos os clientes do banco e, com base nessa análise, criar um modelo que consiga ler as informações do cliente e dizer automaticamente o score de crédito dele: Ruim, Ok, Bom\n",
    "\n",
    "Arquivos da aula: https://drive.google.com/drive/folders/1FbDqVq4XLvU85VBlVIMJ73p9oOu6u2-J?usp=drive_link"
   ]
  },
  {
   "cell_type": "code",
   "execution_count": null,
   "metadata": {},
   "outputs": [],
   "source": [
    "# Importando a base de dados\n",
    "import pandas as pd\n",
    "\n",
    "tbl_clientes = pd.read_csv('clientes.csv')\n",
    "display(tbl_clientes)"
   ]
  },
  {
   "cell_type": "code",
   "execution_count": null,
   "metadata": {},
   "outputs": [],
   "source": [
    "# Preparando a base de dados para a I.A\n",
    "tbl_clientes.info()\n",
    "\n",
    "# Repare que as colunas profissao, mix_credito e comportamento_pagamento são do tipo object (texto)\n",
    "# Estas colunas devem ser convertidas para números"
   ]
  },
  {
   "cell_type": "code",
   "execution_count": null,
   "metadata": {},
   "outputs": [],
   "source": [
    "# Label Encoder\n",
    "from sklearn.preprocessing import LabelEncoder\n",
    "\n",
    "coder_profissao = LabelEncoder()\n",
    "\n",
    "# Label Encoder na coluna profissao\n",
    "tbl_clientes['profissao'] = coder_profissao.fit_transform(tbl_clientes['profissao'])\n",
    "tbl_clientes.info()"
   ]
  },
  {
   "cell_type": "code",
   "execution_count": null,
   "metadata": {},
   "outputs": [],
   "source": [
    "# Label Encoder na mix_credito\n",
    "coder_mix_credito = LabelEncoder()\n",
    "tbl_clientes['mix_credito'] = coder_mix_credito.fit_transform(tbl_clientes['mix_credito'])\n",
    "tbl_clientes.info()"
   ]
  },
  {
   "cell_type": "code",
   "execution_count": null,
   "metadata": {},
   "outputs": [],
   "source": [
    "# Label Encoder na coluna comportamento_pagamento\n",
    "coder_comportamento_pag = LabelEncoder()\n",
    "\n",
    "tbl_clientes['comportamento_pagamento'] = coder_comportamento_pag.fit_transform(tbl_clientes['comportamento_pagamento'])\n",
    "tbl_clientes.info()"
   ]
  }
 ],
 "metadata": {
  "kernelspec": {
   "display_name": "venv",
   "language": "python",
   "name": "python3"
  },
  "language_info": {
   "codemirror_mode": {
    "name": "ipython",
    "version": 3
   },
   "file_extension": ".py",
   "mimetype": "text/x-python",
   "name": "python",
   "nbconvert_exporter": "python",
   "pygments_lexer": "ipython3",
   "version": "3.12.5"
  },
  "orig_nbformat": 4
 },
 "nbformat": 4,
 "nbformat_minor": 2
}
